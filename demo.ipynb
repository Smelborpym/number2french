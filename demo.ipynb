{
 "cells": [
  {
   "cell_type": "code",
   "execution_count": null,
   "metadata": {},
   "outputs": [],
   "source": [
    "from os import getcwd\n",
    "from os.path import join, dirname\n",
    "\n",
    "PATH_REPO = join(dirname(getcwd()), 'dev')\n",
    "PATH_DATA = join(PATH_REPO, 'data')\n",
    "PATH_SRC = join(PATH_REPO, 'src')\n",
    "\n",
    "import sys\n",
    "sys.path.append(PATH_SRC)\n",
    "\n",
    "from utils import load_from_file, save_to_file\n",
    "from converter import Converter"
   ]
  }
 ],
 "metadata": {
  "language_info": {
   "name": "python"
  }
 },
 "nbformat": 4,
 "nbformat_minor": 2
}
