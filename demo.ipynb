{
 "cells": [
  {
   "cell_type": "code",
   "execution_count": 25,
   "metadata": {},
   "outputs": [
    {
     "name": "stdout",
     "output_type": "stream",
     "text": [
      "The autoreload extension is already loaded. To reload it, use:\n",
      "  %reload_ext autoreload\n"
     ]
    }
   ],
   "source": [
    "%load_ext autoreload\n",
    "%autoreload 2\n",
    "\n",
    "from os import getcwd\n",
    "from os.path import join, dirname\n",
    "\n",
    "PATH_REPO = join(dirname(getcwd()), \"number2french\")\n",
    "PATH_INPUTS = join(PATH_REPO, 'inputs')\n",
    "PATH_SRC = join(PATH_REPO, 'src')\n",
    "\n",
    "import sys\n",
    "sys.path.append(PATH_SRC)\n",
    "\n",
    "from utils import load_from_file, save_to_file, load_labeled\n",
    "from converter import Converter"
   ]
  },
  {
   "cell_type": "markdown",
   "metadata": {},
   "source": [
    "### Inspect outputs"
   ]
  },
  {
   "cell_type": "code",
   "execution_count": 45,
   "metadata": {},
   "outputs": [
    {
     "name": "stdout",
     "output_type": "stream",
     "text": [
      "[0, 1, 5, 10, 11, 15, 20, 21, 30, 35, 50, 51, 68, 70, 75, 99, 100, 101, 105, 111, 123, 168, 171, 175, 199, 200, 201, 555, 999, 1000, 1001, 1111, 1199, 1234, 1999, 2000, 2001, 2020, 2021, 2345, 9999, 10000, 11111, 12345, 123456, 654321, 999999]\n"
     ]
    }
   ],
   "source": [
    "numbers_kata = load_from_file(join(PATH_INPUTS, 'kata.json'))\n",
    "print(numbers_kata)"
   ]
  },
  {
   "cell_type": "code",
   "execution_count": 46,
   "metadata": {},
   "outputs": [
    {
     "name": "stdout",
     "output_type": "stream",
     "text": [
      "['zéro', 'un', 'cinq', 'dix', 'onze', 'quinze', 'vingt', 'vingt-et-un', 'trente', 'trente-cinq', 'cinquante', 'cinquante-et-un', 'soixante-huit', 'soixante-dix', 'soixante-quinze', 'quatre-vingt-dix-neuf', 'cent', 'cent-un', 'cent-cinq', 'cent-onze', 'cent-vingt-trois', 'cent-soixante-huit', 'cent-soixante-et-onze', 'cent-soixante-quinze', 'cent-quatre-vingt-dix-neuf', 'deux-cents', 'deux-cent-un', 'cinq-cent-cinquante-cinq', 'neuf-cent-quatre-vingt-dix-neuf', 'mille', 'mille-un', 'mille-cent-onze', 'mille-cent-quatre-vingt-dix-neuf', 'mille-deux-cent-trente-quatre', 'mille-neuf-cent-quatre-vingt-dix-neuf', 'deux-milles', 'deux-mille-un', 'deux-mille-vingt', 'deux-mille-vingt-et-un', 'deux-mille-trois-cent-quarante-cinq', 'neuf-mille-neuf-cent-quatre-vingt-dix-neuf', 'dix-milles', 'onze-mille-cent-onze', 'douze-mille-trois-cent-quarante-cinq', 'cent-vingt-trois-mille-quatre-cent-cinquante-six', 'six-cent-cinquante-quatre-mille-trois-cent-vingt-et-un', 'neuf-cent-quatre-vingt-dix-neuf-mille-neuf-cent-quatre-vingt-dix-neuf']\n"
     ]
    }
   ],
   "source": [
    "converter = Converter(numbers_kata, lang='french')\n",
    "print(converter.convert_to_words())"
   ]
  },
  {
   "cell_type": "code",
   "execution_count": 47,
   "metadata": {},
   "outputs": [
    {
     "name": "stdout",
     "output_type": "stream",
     "text": [
      "['zéro', 'un', 'cinq', 'dix', 'onze', 'quinze', 'vingt', 'vingt-et-un', 'trente', 'trente-cinq', 'cinquante', 'cinquante-et-un', 'soixante-huit', 'septante', 'septante-cinq', 'nonante-neuf', 'cent', 'cent-un', 'cent-cinq', 'cent-onze', 'cent-vingt-trois', 'cent-soixante-huit', 'cent-septante-et-un', 'cent-septante-cinq', 'cent-nonante-neuf', 'deux-cents', 'deux-cent-un', 'cinq-cent-cinquante-cinq', 'neuf-cent-nonante-neuf', 'mille', 'mille-un', 'mille-cent-onze', 'mille-cent-nonante-neuf', 'mille-deux-cent-trente-quatre', 'mille-neuf-cent-nonante-neuf', 'deux-milles', 'deux-mille-un', 'deux-mille-vingt', 'deux-mille-vingt-et-un', 'deux-mille-trois-cent-quarante-cinq', 'neuf-mille-neuf-cent-nonante-neuf', 'dix-milles', 'onze-mille-cent-onze', 'douze-mille-trois-cent-quarante-cinq', 'cent-vingt-trois-mille-quatre-cent-cinquante-six', 'six-cent-cinquante-quatre-mille-trois-cent-vingt-et-un', 'neuf-cent-nonante-neuf-mille-neuf-cent-nonante-neuf']\n"
     ]
    }
   ],
   "source": [
    "converter = Converter(numbers_kata, lang='belgian')\n",
    "print(converter.convert_to_words())"
   ]
  },
  {
   "cell_type": "code",
   "execution_count": 51,
   "metadata": {},
   "outputs": [],
   "source": [
    "save_to_file(converter.convert_to_words(), PATH_REPO, f\"kata_pred_{converter.lang}.json\", converter.lang)"
   ]
  },
  {
   "cell_type": "markdown",
   "metadata": {},
   "source": [
    "### Error analysis"
   ]
  },
  {
   "cell_type": "code",
   "execution_count": 36,
   "metadata": {},
   "outputs": [],
   "source": [
    "test = load_labeled(join(PATH_INPUTS, 'extra.json'))\n",
    "french_converter = Converter(test.loc[:, 'numbers'].values, lang='french')\n",
    "belgian_converter = Converter(test.loc[:, 'numbers'].values, lang='belgian')"
   ]
  },
  {
   "cell_type": "code",
   "execution_count": 37,
   "metadata": {},
   "outputs": [],
   "source": [
    "test.loc[:, 'french_pred'] = french_converter.convert_to_words()\n",
    "test.loc[:, 'belgian_pred'] = belgian_converter.convert_to_words()"
   ]
  },
  {
   "cell_type": "markdown",
   "metadata": {},
   "source": [
    "#### French Errors"
   ]
  },
  {
   "cell_type": "code",
   "execution_count": 38,
   "metadata": {},
   "outputs": [
    {
     "data": {
      "text/html": [
       "<div>\n",
       "<style scoped>\n",
       "    .dataframe tbody tr th:only-of-type {\n",
       "        vertical-align: middle;\n",
       "    }\n",
       "\n",
       "    .dataframe tbody tr th {\n",
       "        vertical-align: top;\n",
       "    }\n",
       "\n",
       "    .dataframe thead th {\n",
       "        text-align: right;\n",
       "    }\n",
       "</style>\n",
       "<table border=\"1\" class=\"dataframe\">\n",
       "  <thead>\n",
       "    <tr style=\"text-align: right;\">\n",
       "      <th></th>\n",
       "      <th>french</th>\n",
       "      <th>french_pred</th>\n",
       "    </tr>\n",
       "  </thead>\n",
       "  <tbody>\n",
       "  </tbody>\n",
       "</table>\n",
       "</div>"
      ],
      "text/plain": [
       "Empty DataFrame\n",
       "Columns: [french, french_pred]\n",
       "Index: []"
      ]
     },
     "execution_count": 38,
     "metadata": {},
     "output_type": "execute_result"
    }
   ],
   "source": [
    "test[['french', 'french_pred']].loc[test.loc[:, 'french'] != test.loc[:, 'french_pred']]"
   ]
  },
  {
   "cell_type": "markdown",
   "metadata": {},
   "source": [
    "#### Belgian Errors"
   ]
  },
  {
   "cell_type": "code",
   "execution_count": 39,
   "metadata": {},
   "outputs": [
    {
     "data": {
      "text/html": [
       "<div>\n",
       "<style scoped>\n",
       "    .dataframe tbody tr th:only-of-type {\n",
       "        vertical-align: middle;\n",
       "    }\n",
       "\n",
       "    .dataframe tbody tr th {\n",
       "        vertical-align: top;\n",
       "    }\n",
       "\n",
       "    .dataframe thead th {\n",
       "        text-align: right;\n",
       "    }\n",
       "</style>\n",
       "<table border=\"1\" class=\"dataframe\">\n",
       "  <thead>\n",
       "    <tr style=\"text-align: right;\">\n",
       "      <th></th>\n",
       "      <th>belgian</th>\n",
       "      <th>belgian_pred</th>\n",
       "    </tr>\n",
       "  </thead>\n",
       "  <tbody>\n",
       "  </tbody>\n",
       "</table>\n",
       "</div>"
      ],
      "text/plain": [
       "Empty DataFrame\n",
       "Columns: [belgian, belgian_pred]\n",
       "Index: []"
      ]
     },
     "execution_count": 39,
     "metadata": {},
     "output_type": "execute_result"
    }
   ],
   "source": [
    "test[['belgian', 'belgian_pred']].loc[test.loc[:, 'belgian'] != test.loc[:, 'belgian_pred']]"
   ]
  }
 ],
 "metadata": {
  "kernelspec": {
   "display_name": "venv",
   "language": "python",
   "name": "python3"
  },
  "language_info": {
   "codemirror_mode": {
    "name": "ipython",
    "version": 3
   },
   "file_extension": ".py",
   "mimetype": "text/x-python",
   "name": "python",
   "nbconvert_exporter": "python",
   "pygments_lexer": "ipython3",
   "version": "3.12.0"
  }
 },
 "nbformat": 4,
 "nbformat_minor": 2
}
